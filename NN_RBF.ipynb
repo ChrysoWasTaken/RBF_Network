{
 "cells": [
  {
   "cell_type": "code",
   "execution_count": 1,
   "metadata": {},
   "outputs": [],
   "source": [
    "from keras.datasets import mnist  #Used to load the MNIST dataset.\n",
    "import matplotlib.pyplot as plt   #Used to show graphs.\n",
    "import numpy as np  \n",
    "import time                       #Used to calculate elapsed time.\n",
    "np.set_printoptions(suppress=True)  #Disables scientific notation when printing."
   ]
  },
  {
   "cell_type": "code",
   "execution_count": 2,
   "metadata": {},
   "outputs": [],
   "source": [
    "#Data loading using keras mnist.load_data() function\n",
    "(X_train, y_train), (X_test, y_test) = mnist.load_data()\n",
    "\n",
    "#Reduces the number of dimensions from 3 to 2\n",
    "X_train=X_train.reshape(X_train.shape[0],X_train.shape[1]*X_train.shape[2])\n",
    "X_test = X_test.reshape(X_test.shape[0],X_test.shape[1]*X_test.shape[2])\n",
    "y_train = np.array(y_train, dtype=np.int8)\n",
    "y_test = np.array(y_test, dtype=np.int8)"
   ]
  },
  {
   "cell_type": "code",
   "execution_count": 3,
   "metadata": {},
   "outputs": [],
   "source": [
    "#Encoding our y data to 2 classes , for even and odd numbers.\n",
    "def encode(A):\n",
    "  xE= []\n",
    "  for x in range(len(A)):\n",
    "    if (A[x]%2==0):\n",
    "      value = 1\n",
    "    else:\n",
    "      value=-1\n",
    "    xE.append(value)\n",
    "  return np.array(xE)\n",
    "\n",
    "#Normalizing our data by dividing them all by 255\n",
    "def normalize(X_array):\n",
    "  X_array=X_array/255\n",
    "  X_array=np.round(X_array,5)\n",
    "  return X_array"
   ]
  },
  {
   "cell_type": "code",
   "execution_count": 4,
   "metadata": {},
   "outputs": [],
   "source": [
    "#Applying the above functions to our data\n",
    "\n",
    "y_train = encode(y_train)\n",
    "y_test = encode(y_test)\n",
    "X_train = normalize(X_train)\n",
    "X_test = normalize(X_test)"
   ]
  },
  {
   "cell_type": "code",
   "execution_count": 5,
   "metadata": {},
   "outputs": [],
   "source": [
    "#Τaking smaller samples of \"size\" data to use\n",
    "index = np.random.choice(X_train.shape[0], size=8000, replace=False)\n",
    "index2 = np.random.choice(X_test.shape[0], size=1000, replace=False)\n",
    "X_train_sm=X_train[index]\n",
    "y_train_sm=y_train[index]\n",
    "X_test_sm=X_test[index2]\n",
    "y_test_sm=y_test[index2]"
   ]
  },
  {
   "cell_type": "code",
   "execution_count": 6,
   "metadata": {},
   "outputs": [],
   "source": [
    "#def getDistance(x,y):\n",
    " # distance = (sum((x-y)**2))**0.5\n",
    " # return distance\n",
    "\n",
    "#Calculate the distance of element x from each center y all together\n",
    "def groupGetDistance(x,y):\n",
    "  np.tile(x,(len(y),1))\n",
    "  d = np.sum((x-y)**2,axis=1)**0.5\n",
    "  return d\n",
    "  \n",
    "#KMeans algorithm. Takes arguments : X: X dataset, cLen : number of centers, iterations: no of iterations of the algorithm\n",
    "#Returns Centers,loss,standard_deviation\n",
    "def KMeans(X,cLen,iterations):\n",
    "  losses = [0]\n",
    "  index = np.random.choice(X.shape[0], size=cLen, replace=False)\n",
    "  centers=X[index]\n",
    "\n",
    "  for it in range(iterations):\n",
    "    distanceLoss = np.zeros(cLen)\n",
    "    #Keeps count of data points close to each center\n",
    "    itemsPerCenter = np.zeros(cLen)\n",
    "    #Initializes centers from random data points of X set\n",
    "    centerValues = np.zeros(shape = (cLen,len(X[0])))\n",
    "    print(\"Iteration: \",it+1)\n",
    "\n",
    "    for Xindex,Xvalue in enumerate(X):\n",
    "\n",
    "      #for centerIndex,center in enumerate(centers):\n",
    "        #distance[centerIndex] = getDistance(Xvalue,center)\n",
    "        \n",
    "    #Calculates distance of Xvalue from all centers and keeps the minimum distance to clIndex\n",
    "      distance = groupGetDistance(Xvalue,centers)\n",
    "      clIndex = np.argmin(distance)\n",
    "    \n",
    "    #Count for classified center is increased by one and \n",
    "      itemsPerCenter[clIndex]+=1\n",
    "        \n",
    "    #Keeps the sum of each point close to each center, which will later be divided with the count to get the new centers\n",
    "      centerValues[clIndex]+=Xvalue\n",
    "        \n",
    "    #Keeps the distance of each point close to each center, which will later be divided with the count to get standard deviation\n",
    "      distanceLoss[clIndex]+=distance[clIndex]\n",
    "    #Calculate new centers and loss.\n",
    "    centers = centerValues/itemsPerCenter[:,None]\n",
    "    losses.append(sum(distanceLoss)/cLen)\n",
    "    #If loss has not changed between iterations , bypass iteration number and end the process early.\n",
    "    if (losses[it]==losses[it+1]):\n",
    "      print(\"Done after \" ,it+1,\" iterations.\")\n",
    "      return centers,losses,distanceLoss/itemsPerCenter\n",
    "  return centers,losses,distanceLoss/itemsPerCenter\n",
    "\n",
    "#takes random points of X dataset as centers. Basically KMeans for 1 iteration without calculating new centers.\n",
    "#Takes X: X dataset, cLen: number of centers\n",
    "#Returns centers,standard_deviation\n",
    "def randomCenters(X,cLen):\n",
    "  losses = [0]\n",
    "  index = np.random.choice(X.shape[0], size=cLen, replace=False)\n",
    "  centers=X[index]\n",
    "\n",
    "  distanceLoss = np.zeros(cLen)\n",
    "  itemsPerCenter = np.zeros(cLen)\n",
    "  centerValues = np.zeros(shape = (cLen,len(X[0])))\n",
    "\n",
    "  for Xvalue in X:\n",
    "    distance = groupGetDistance(Xvalue,centers)\n",
    "    clIndex = np.argmin(distance)\n",
    "    itemsPerCenter[clIndex]+=1\n",
    "    centerValues[clIndex]+=Xvalue\n",
    "    distanceLoss[clIndex]+=distance[clIndex]\n",
    "  return centers,distanceLoss/itemsPerCenter\n",
    "\n",
    "#Gaussian Radial Basis Function\n",
    "def RBFgaussian(X,centers,std):\n",
    "  return  ( np.exp(-((np.linalg.norm(X-centers,axis=1)**2) / (2*(std**2)))) ) \n",
    "\n",
    "#Multiquadratic Radial Basis Function\n",
    "def RBFquad(X,centers,std):\n",
    "  return (  np.sqrt((np.linalg.norm(X-centers,axis=1)**2) + (std**2))  )\n",
    "\n",
    "#Cauchy Radial Basis Function\n",
    "def RBFcauchy(X,centers,std):\n",
    "  return ( ( ( (np.linalg.norm(X-centers,axis=1)**2) + (std**2) )**-1 ) / std )\n",
    "\n",
    "#Least Squares Error Loss function\n",
    "def leastSquaresLoss(y,out):\n",
    "  return 0.5*((y-out)**2)\n",
    "\n"
   ]
  },
  {
   "cell_type": "code",
   "execution_count": 7,
   "metadata": {},
   "outputs": [
    {
     "name": "stdout",
     "output_type": "stream",
     "text": [
      "Iteration:  1\n",
      "Iteration:  2\n",
      "Iteration:  3\n"
     ]
    }
   ],
   "source": [
    "#Get centers and standard deviation using KMeans algorithm\n",
    "#Remove centers with no data points and plot loss for eacah iteration\n",
    "centerT = time.time()\n",
    "centers,losses,devs = KMeans(X_train,100,3)\n",
    "std = devs[devs!=0]\n",
    "centers = centers[devs!=0]\n",
    "\n",
    "\n",
    "centerT2 = time.time()\n",
    "\n",
    "#Execution time of the algorithm\n",
    "centerCalcTime = centerT2 - centerT"
   ]
  },
  {
   "cell_type": "code",
   "execution_count": 12,
   "metadata": {},
   "outputs": [],
   "source": [
    "featX = np.linalg.norm(X_train[0]-centers[0])"
   ]
  },
  {
   "cell_type": "code",
   "execution_count": 14,
   "metadata": {},
   "outputs": [
    {
     "data": {
      "text/plain": [
       "8.513631078692818"
      ]
     },
     "execution_count": 14,
     "metadata": {},
     "output_type": "execute_result"
    }
   ],
   "source": [
    "featX"
   ]
  },
  {
   "cell_type": "code",
   "execution_count": null,
   "metadata": {},
   "outputs": [],
   "source": [
    "plt.plot(losses[1:])\n",
    "plt.xlabel('No of iterations')\n",
    "plt.ylabel('Loss')\n",
    "plt.title('Avg Distance from centers')\n",
    "\n",
    "plt.show()\n",
    "print(\"Time to find centers: \",int(centerCalcTime),\" seconds.\")"
   ]
  },
  {
   "cell_type": "code",
   "execution_count": null,
   "metadata": {},
   "outputs": [],
   "source": [
    "#Get centers and standard deviation using random Centers algorithm\n",
    "#Remove centers with no data points.Commented out (Works)\n",
    "\n",
    "#centers,devs = randomCenters(X_train,1000)\n",
    "#std = devs[devs!=0]\n",
    "#centers = centers[devs!=0]"
   ]
  },
  {
   "cell_type": "code",
   "execution_count": null,
   "metadata": {},
   "outputs": [],
   "source": [
    "#X: X dataset, y: y labels\n",
    "#losses: loss of each epoch all in a list for plotting purposes\n",
    "#bias, weights initialized to 0\n",
    "#weight length equals the number of centers.\n",
    "#learing_rate : lr hyperparameter , epochs: number of algorithm iterations.\n",
    "\n",
    "#\n",
    "start = time.time()\n",
    "X = X_train\n",
    "y = y_train\n",
    "losses = []\n",
    "loss = 0\n",
    "bias = 0\n",
    "learning_rate = 0.5\n",
    "weights = np.zeros(len(centers[:,]))\n",
    "epochs = 1\n",
    "\n",
    "#For each element in X dataset (len = 784): \n",
    "#calculate featX using RBF (len = no of centers) -> forward pass -> calculate loss -> update weights and bias. \n",
    "#Repeat for no of epochs\n",
    "\n",
    "for e in range(epochs):\n",
    "    \n",
    "  randomize = np.arange(len(X))\n",
    "  np.random.shuffle(randomize)\n",
    "  X = X[randomize]\n",
    "  y = y[randomize]\n",
    "    \n",
    "  for index,Xvalue in enumerate(X):\n",
    "\n",
    "    featX = RBFgaussian(Xvalue,centers,std)\n",
    "    \n",
    "    #Negative outputs become -1 and positive become +1\n",
    "    output = np.sign( np.dot(weights,featX) +bias ) #wT.f(x) + b\n",
    "\n",
    "    #Calculate loss with Least Squares function\n",
    "    loss+= leastSquaresLoss(y[index],output)\n",
    "    \n",
    "    #Update weights and bias using delta rule\n",
    "    weights += learning_rate* (y[index] - output)*featX\n",
    "    bias += learning_rate* (y[index] - output)  \n",
    "  losses.append(loss)\n",
    "  print(\"Epoch \",e+1)\n",
    "  print(\"Loss:\",loss)\n",
    "  loss =0 "
   ]
  },
  {
   "cell_type": "code",
   "execution_count": null,
   "metadata": {},
   "outputs": [],
   "source": [
    "#For each element in the training set,transfer it to the feature space, forward pass and check if it matches the data's label.\n",
    "X = X_test\n",
    "y = y_test\n",
    "correct = 0\n",
    "\n",
    "for index,Xvalue in enumerate(X):\n",
    "\n",
    "  featX = RBFgaussian(Xvalue,centers,std)\n",
    "\n",
    "  output = np.sign( np.dot(weights,featX) + bias )\n",
    "\n",
    "  if (output == y[index]):\n",
    "    correct+=1\n",
    "\n",
    "print(\"Test Accuracy : \",(correct*100) / len(X))\n",
    "\n",
    "#Same algorithm as above but for training set\n",
    "X = X_train\n",
    "y = y_train\n",
    "correct = 0\n",
    "\n",
    "for index,Xvalue in enumerate(X):\n",
    "\n",
    "  featX = RBFgaussian(Xvalue,centers,std)\n",
    "\n",
    "  output = np.sign( np.dot(weights,featX) + bias )\n",
    "\n",
    "  if (output == y[index]):\n",
    "    correct+=1\n",
    "end = time.time()\n",
    "print(\"Test Accuracy : \",(correct*100) / len(X))\n",
    "print(\"Time: \",end-start)"
   ]
  },
  {
   "cell_type": "code",
   "execution_count": null,
   "metadata": {},
   "outputs": [],
   "source": [
    "plt.plot(losses)\n",
    "plt.xlabel('No of epochs')\n",
    "plt.ylabel('Loss')\n",
    "plt.title('Training Loss Per Epoch')\n",
    "\n",
    "plt.show()"
   ]
  }
 ],
 "metadata": {
  "kernelspec": {
   "display_name": "Python 3",
   "language": "python",
   "name": "python3"
  },
  "language_info": {
   "codemirror_mode": {
    "name": "ipython",
    "version": 3
   },
   "file_extension": ".py",
   "mimetype": "text/x-python",
   "name": "python",
   "nbconvert_exporter": "python",
   "pygments_lexer": "ipython3",
   "version": "3.8.3"
  }
 },
 "nbformat": 4,
 "nbformat_minor": 4
}
